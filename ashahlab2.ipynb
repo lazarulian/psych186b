{
 "cells": [
  {
   "cell_type": "code",
   "execution_count": 1,
   "metadata": {},
   "outputs": [],
   "source": [
    "# Apurva Shah, 705595011, Psych 186B\n",
    "# Homework 2\n",
    "\n",
    "# General Imports\n",
    "import random\n",
    "import matplotlib.pyplot as plt\n",
    "import numpy as np\n",
    "import matplotlib as mpl\n",
    "import math\n",
    "import statistics"
   ]
  },
  {
   "cell_type": "code",
   "execution_count": 2,
   "metadata": {},
   "outputs": [],
   "source": [
    "seed_value = 40\n",
    "random.seed(seed_value)"
   ]
  },
  {
   "cell_type": "code",
   "execution_count": 3,
   "metadata": {},
   "outputs": [],
   "source": [
    "# Utility Functions for Lab\n",
    "\n",
    "class VectorTools():\n",
    "    def __init__(self):\n",
    "        pass\n",
    "\n",
    "    def generate_vector(self, length):\n",
    "        # Function to generate a random vector of specified length \n",
    "        vector = np.random.randn(length)\n",
    "        return vector\n",
    "    \n",
    "    def normalize_mean(self, vector):\n",
    "        # Function to take vector and normalize its mean to zero\n",
    "        mean = np.mean(vector)\n",
    "        return vector - mean\n",
    "    \n",
    "    def normalize_vector(self, vector):\n",
    "        # Function to normalize a vector to unit length\n",
    "        norm = np.linalg.norm(vector)\n",
    "        return vector / norm if norm != 0 else vector\n",
    "        \n",
    "    def calculate_length(self, vector):\n",
    "        # Calculates the length of a vector given a vector\n",
    "        sum = 0\n",
    "        for i in vector:\n",
    "            sum += i**2\n",
    "        return math.sqrt(sum)\n",
    "    \n",
    "    def calculate_dot_product(self, v1, v2):\n",
    "        # Calculates the dot product between two vectors\n",
    "        dot_product = 0\n",
    "\n",
    "        # Vectors are not the same dimension\n",
    "        if len(v1) != len(v2):\n",
    "            raise Exception()\n",
    "\n",
    "        for i in range(0, len(v1)):\n",
    "            dot_product += v1[i]*v2[i]\n",
    "        \n",
    "        return dot_product\n",
    "\n",
    "vmod = VectorTools()"
   ]
  },
  {
   "cell_type": "markdown",
   "metadata": {},
   "source": [
    "## Question 1: "
   ]
  },
  {
   "cell_type": "code",
   "execution_count": 4,
   "metadata": {},
   "outputs": [
    {
     "name": "stdout",
     "output_type": "stream",
     "text": [
      "The cosine similarity for the two vectors are:  1.0\n",
      "The length of g' is:  1.0\n"
     ]
    }
   ],
   "source": [
    "# A: Generate two vectors f, g\n",
    "\n",
    "length = 100\n",
    "f = vmod.generate_vector(length)\n",
    "g = vmod.generate_vector(length)\n",
    "\n",
    "# B: Set the mean of the vectors to zero\n",
    "\n",
    "f = vmod.normalize_mean(f)\n",
    "g = vmod.normalize_mean(g)\n",
    "\n",
    "# C: Normalize the Vectors\n",
    "f_normalized = vmod.normalize_vector(f)\n",
    "g_normalized = vmod.normalize_vector(g)\n",
    "\n",
    "# D: Computer outer product A\n",
    "A = np.outer(g_normalized, f_normalized)\n",
    "\n",
    "# E: Show Af gives output g' which is the same direction as g...\n",
    "Af = np.dot(A, f_normalized)\n",
    "g_prime = Af/np.linalg.norm(Af)\n",
    "g_dot = np.dot(g_normalized, g_prime)\n",
    "\n",
    "cosine_similarity = round(g_dot / (np.linalg.norm(g_normalized) * np.linalg.norm(g_prime)), 2)\n",
    "g_length = round(np.linalg.norm(g_prime), 2)\n",
    "\n",
    "print(\"The cosine similarity for the two vectors are: \", cosine_similarity)\n",
    "print(\"The length of g' is: \", g_length)"
   ]
  },
  {
   "cell_type": "markdown",
   "metadata": {},
   "source": [
    "## Question 2:"
   ]
  },
  {
   "cell_type": "code",
   "execution_count": 5,
   "metadata": {},
   "outputs": [
    {
     "name": "stdout",
     "output_type": "stream",
     "text": [
      "The cosine similarity for the two vectors are:  -0.14\n",
      "The length of Af' is:  0.14\n"
     ]
    }
   ],
   "source": [
    "# A: Generate new normalized vector f'\n",
    "f_prime = vmod.generate_vector(length)\n",
    "f_prime_normalized = vmod.normalize_vector(f_prime)\n",
    "\n",
    "# B: Check to see if it is more or less orthogonal to f by looking at the cosine of the angle between f and f'.\n",
    "fdotprods = np.dot(f_normalized, f_prime_normalized)\n",
    "cosine_f_fprime = round(fdotprods / (np.linalg.norm(f_normalized) * np.linalg.norm(f_prime_normalized)), 2)\n",
    "print(\"The cosine similarity for the two vectors are: \", cosine_f_fprime)\n",
    "\n",
    "# C: Compute Af' and look at the length of this vector.\n",
    "\n",
    "Af_prime = np.dot(A ,f_prime_normalized)\n",
    "Af_length = round(np.linalg.norm(Af_prime), 2)\n",
    "print(\"The length of Af' is: \", Af_length)"
   ]
  },
  {
   "cell_type": "markdown",
   "metadata": {},
   "source": [
    "One thing that I noticed is that when producing the cosine of F' and the length of Af', the results are often the same. I was expecting Af' to be close to zero since I was expecting f to be closely orthogonal to f'. In terms of the cosine, when we are computing Af where A is the outer product of g and f and then use that with calculation to f', the vectors length will be the cosine of the angle between f and f'. "
   ]
  },
  {
   "cell_type": "markdown",
   "metadata": {},
   "source": [
    "## Question 3:"
   ]
  },
  {
   "cell_type": "code",
   "execution_count": 6,
   "metadata": {},
   "outputs": [
    {
     "name": "stdout",
     "output_type": "stream",
     "text": [
      "Connectivity Matrix: [[-0.17503674 -0.05531485  0.0661444  ...  0.12050525  0.08685329\n",
      "  -0.04373826]\n",
      " [-0.01190671  0.02837364 -0.06596101 ... -0.07184675 -0.02510767\n",
      "  -0.06812661]\n",
      " [ 0.03227419  0.08460816  0.061847   ... -0.06944226  0.06529323\n",
      "  -0.05643663]\n",
      " ...\n",
      " [-0.00934582  0.07112867  0.06584439 ...  0.00570672  0.05640397\n",
      "   0.0614219 ]\n",
      " [-0.04398446  0.01624041 -0.0625563  ...  0.0814023  -0.17292838\n",
      "  -0.05488037]\n",
      " [-0.00408658 -0.08665499 -0.00851783 ... -0.04323837 -0.15405364\n",
      "  -0.00508223]]\n"
     ]
    }
   ],
   "source": [
    "\n",
    "def generate_vector_pairs(num_pairs, vector_length):\n",
    "    # Generate many pairs of normalized random vectors\n",
    "    pairs = []\n",
    "    for i in range(num_pairs):\n",
    "        fi = vmod.generate_vector(vector_length)\n",
    "        gi = vmod.generate_vector(vector_length)\n",
    "        fi_normalized = vmod.normalize_vector(fi)\n",
    "        gi_normalized = vmod.normalize_vector(gi)\n",
    "        pairs.append((fi_normalized, gi_normalized))\n",
    "    return pairs\n",
    "\n",
    "def compute_individual_outer_product_matrices(vector_pairs):\n",
    "    outer_product_matrices = []\n",
    "    for fi, gi in vector_pairs:\n",
    "        Ai = np.outer(gi, fi)\n",
    "        outer_product_matrices.append(Ai)\n",
    "    return outer_product_matrices\n",
    "\n",
    "def compute_connectivity_matrix(vector_pairs):\n",
    "    # Compute the overall connectivity matrix A from vector pairs\n",
    "    A = np.zeros((len(vector_pairs[0][0]), len(vector_pairs[0][0])))\n",
    "    for fi, gi in vector_pairs:\n",
    "        Ai = np.outer(gi, fi)\n",
    "        A += Ai\n",
    "        # Transposing Matrix\n",
    "        transposed = np.transpose(A)\n",
    "    return A\n",
    "\n",
    "# A: Generate many pairs of normalized random vectors fi, and gi\n",
    "vector_pairs = generate_vector_pairs(50, 100)\n",
    "\n",
    "# B: Compute outer product matrices.\n",
    "outer_product_matrices = compute_individual_outer_product_matrices(vector_pairs)\n",
    "\n",
    "# C: Form overall connectivity matrix. \n",
    "\n",
    "# I am not using the outerproduct matrix because its a bit tedious to edit that code to add in the connectivity stuff. Better to \n",
    "# modularize it separately. \n",
    "A = compute_connectivity_matrix(vector_pairs)\n",
    "\n",
    "print(\"Connectivity Matrix:\", A)"
   ]
  },
  {
   "cell_type": "code",
   "execution_count": 7,
   "metadata": {},
   "outputs": [
    {
     "name": "stdout",
     "output_type": "stream",
     "text": [
      "Average Cosine Similarity: 0.823\n",
      "Average Length of g': 1.2193\n",
      "Average Length of hi': 0.6941\n"
     ]
    }
   ],
   "source": [
    "# D Test the resulting matrix A from above as follows:\n",
    "def test_connectivity_matrix_with_averages(A, vector_pairs, num_test_vectors):\n",
    "    total_cosine_similarity = 0\n",
    "    total_length_g_prime = 0\n",
    "    results = []\n",
    "\n",
    "    # Test with stored vectors (3D1, 3D2, 3D3)\n",
    "    for fi, gi in vector_pairs:\n",
    "        # 3D1: Compute the actual/observed output g' for each stored input fi using A\n",
    "        g_prime = np.dot(A, fi)\n",
    "        \n",
    "        # 3D2: Compare it with gi by computing the cosine between gi and g'\n",
    "        cosine_similarity = np.dot(gi, g_prime) / (np.linalg.norm(gi) * np.linalg.norm(g_prime))\n",
    "\n",
    "        # 3D3: Compute the length of the output vector g'\n",
    "        length_g_prime = np.linalg.norm(g_prime)\n",
    "\n",
    "        # Accumulate the cosine similarity and length of g'\n",
    "        total_cosine_similarity += cosine_similarity\n",
    "        total_length_g_prime += length_g_prime\n",
    "        results.append((cosine_similarity, length_g_prime))\n",
    "\n",
    "    # Averages for printing\n",
    "    avg_cosine_similarity = total_cosine_similarity / len(vector_pairs)\n",
    "    avg_length_g_prime = total_length_g_prime / len(vector_pairs)\n",
    "\n",
    "# 3D4: Generate new test vectors and test selectivity\n",
    "    test_vector_lengths = []\n",
    "    for _ in range(num_test_vectors):\n",
    "        hi = vmod.normalize_vector(vmod.generate_vector(len(A)))\n",
    "        hi_prime = np.dot(A, hi)\n",
    "        test_vector_lengths.append(np.linalg.norm(hi_prime))\n",
    "\n",
    "    # Returning average length of hi' and the average cosine similarity and length of g'\n",
    "    return results, avg_cosine_similarity, avg_length_g_prime, np.mean(test_vector_lengths)\n",
    "\n",
    "# Run the test with averages\n",
    "test_results, avg_cosine_similarity, avg_length_g_prime, average_length_hi_prime = test_connectivity_matrix_with_averages(A, vector_pairs, 50)\n",
    "\n",
    "# Printing the averages\n",
    "print(\"Average Cosine Similarity:\", round(avg_cosine_similarity, 4))\n",
    "print(f\"Average Length of g':\", round(avg_length_g_prime, 4))\n",
    "print(f\"Average Length of hi':\", round(average_length_hi_prime, 4))"
   ]
  },
  {
   "cell_type": "code",
   "execution_count": 8,
   "metadata": {},
   "outputs": [
    {
     "data": {
      "image/png": "[encoded data removed]",
      "text/plain": [
       "<Figure size 1000x600 with 1 Axes>"
      ]
     },
     "metadata": {},
     "output_type": "display_data"
    }
   ],
   "source": [
    "# Extra Graphing\n",
    "length_gi = 1 # 1 because normalized\n",
    "lengths_hi_prime = [length for _, length in test_results]\n",
    "lengths_data = lengths_hi_prime + [length_gi] * len(lengths_hi_prime)\n",
    "\n",
    "# Labels\n",
    "labels = ['hi\\''] * len(lengths_hi_prime) + ['gi'] * len(lengths_hi_prime)\n",
    "\n",
    "# Creating the histogram\n",
    "plt.figure(figsize=(10, 6))\n",
    "plt.hist([lengths_hi_prime, [length_gi] * len(lengths_hi_prime)], bins=20, label=['hi\\'', 'gi'])\n",
    "plt.xlabel('Length of Output Vector')\n",
    "plt.ylabel('Frequency')\n",
    "plt.title('Histogram of Lengths of Output Vectors')\n",
    "plt.legend()\n",
    "plt.show()\n"
   ]
  },
  {
   "cell_type": "code",
   "execution_count": 9,
   "metadata": {},
   "outputs": [],
   "source": [
    "# 3E\n",
    "\n",
    "def easy_simulator(num_pairs, dimensionality):\n",
    "    # Utility function to avoid code repetition for steps 3a-3d\n",
    "    vector_pairs = generate_vector_pairs(num_pairs, dimensionality)\n",
    "    outer_product_matrices = compute_individual_outer_product_matrices(vector_pairs)\n",
    "    A = compute_connectivity_matrix(vector_pairs)\n",
    "    print(\"Now computing steps A-D with \", num_pairs, \" pairs with a dimensionality of \", dimensionality, \"\\n\")\n",
    "    print(\"Connectivity Matrix:\", A)\n",
    "    test_results, avg_cosine_similarity, avg_length_g_prime, average_length_hi_prime = test_connectivity_matrix_with_averages(A, vector_pairs, 50)\n",
    "    # Printing the averages\n",
    "    print(\"Average Cosine Similarity:\", round(avg_cosine_similarity, 4))\n",
    "    print(f\"Average Length of g':\", round(avg_length_g_prime, 4))\n",
    "    print(\"Normalized gi:\", 1)\n",
    "    print(f\"Average Length of hi':\", round(average_length_hi_prime, 4))\n",
    "    print(\"\\n\")\n",
    "    print(\"\\n\")"
   ]
  },
  {
   "cell_type": "code",
   "execution_count": 10,
   "metadata": {},
   "outputs": [
    {
     "name": "stdout",
     "output_type": "stream",
     "text": [
      "Now computing steps A-D with  1  pairs with a dimensionality of  100 \n",
      "\n",
      "Connectivity Matrix: [[-0.00275456  0.00339742  0.00562083 ... -0.00301309  0.00180848\n",
      "  -0.00025881]\n",
      " [-0.01521191  0.01876208  0.03104079 ... -0.01663964  0.00998724\n",
      "  -0.00142927]\n",
      " [ 0.00635173 -0.0078341  -0.01296107 ...  0.00694788 -0.00417017\n",
      "   0.00059679]\n",
      " ...\n",
      " [-0.00814485  0.0100457   0.01662004 ... -0.00890929  0.00534742\n",
      "  -0.00076527]\n",
      " [-0.0124728   0.01538372  0.02545148 ... -0.01364345  0.0081889\n",
      "  -0.00117191]\n",
      " [-0.00576752  0.00711355  0.01176896 ... -0.00630884  0.00378661\n",
      "  -0.0005419 ]]\n",
      "Average Cosine Similarity: 1.0\n",
      "Average Length of g': 1.0\n",
      "Normalized gi: 1\n",
      "Average Length of hi': 0.0729\n",
      "\n",
      "\n",
      "\n",
      "\n"
     ]
    }
   ],
   "source": [
    "easy_simulator(1, 100)"
   ]
  },
  {
   "cell_type": "code",
   "execution_count": 11,
   "metadata": {},
   "outputs": [
    {
     "name": "stdout",
     "output_type": "stream",
     "text": [
      "Now computing steps A-D with  20  pairs with a dimensionality of  100 \n",
      "\n",
      "Connectivity Matrix: [[-0.02871251 -0.03102109  0.03242512 ... -0.048021   -0.01012277\n",
      "  -0.05222977]\n",
      " [ 0.06430409 -0.0703577   0.0334071  ...  0.02740934 -0.0035738\n",
      "  -0.10026731]\n",
      " [ 0.08480112 -0.03321843  0.04685758 ...  0.0200902   0.02696383\n",
      "   0.01690345]\n",
      " ...\n",
      " [-0.0126728   0.01717074  0.03127844 ... -0.00340886 -0.06759344\n",
      "  -0.02142985]\n",
      " [-0.01227136 -0.00558927  0.0587809  ... -0.04059478  0.03863664\n",
      "   0.04759911]\n",
      " [ 0.01102334  0.11496221  0.04536522 ...  0.02396763 -0.01072849\n",
      "   0.04805278]]\n",
      "Average Cosine Similarity: 0.9201\n",
      "Average Length of g': 1.087\n",
      "Normalized gi: 1\n",
      "Average Length of hi': 0.4614\n",
      "\n",
      "\n",
      "\n",
      "\n"
     ]
    }
   ],
   "source": [
    "easy_simulator(20, 100)\n"
   ]
  },
  {
   "cell_type": "code",
   "execution_count": 12,
   "metadata": {},
   "outputs": [
    {
     "name": "stdout",
     "output_type": "stream",
     "text": [
      "Now computing steps A-D with  40  pairs with a dimensionality of  100 \n",
      "\n",
      "Connectivity Matrix: [[ 0.07404251 -0.00196857 -0.02331032 ... -0.14020672  0.13091223\n",
      "  -0.04695501]\n",
      " [-0.06496387 -0.02395204  0.01678806 ... -0.02622926  0.10630351\n",
      "  -0.04178852]\n",
      " [-0.0300917   0.03844657 -0.10922051 ... -0.09088462  0.10843941\n",
      "   0.06573806]\n",
      " ...\n",
      " [ 0.14125926 -0.07841674  0.01094612 ...  0.00869621 -0.08068399\n",
      "   0.0120632 ]\n",
      " [ 0.09237704 -0.09592834  0.11226659 ...  0.00328114 -0.04246193\n",
      "   0.05853614]\n",
      " [-0.08527976 -0.00073134  0.00836444 ...  0.01574858  0.0126905\n",
      "  -0.15710519]]\n",
      "Average Cosine Similarity: 0.8395\n",
      "Average Length of g': 1.1723\n",
      "Normalized gi: 1\n",
      "Average Length of hi': 0.6267\n",
      "\n",
      "\n",
      "\n",
      "\n"
     ]
    }
   ],
   "source": [
    "easy_simulator(40, 100)\n"
   ]
  },
  {
   "cell_type": "code",
   "execution_count": 13,
   "metadata": {},
   "outputs": [
    {
     "name": "stdout",
     "output_type": "stream",
     "text": [
      "Now computing steps A-D with  60  pairs with a dimensionality of  100 \n",
      "\n",
      "Connectivity Matrix: [[-0.02058982  0.00495362  0.05134653 ... -0.03132417 -0.13296147\n",
      "  -0.08462639]\n",
      " [-0.05115084  0.02073619  0.1042685  ...  0.10965138 -0.0008505\n",
      "   0.02652051]\n",
      " [-0.02614192 -0.09244248 -0.02367433 ...  0.07787316  0.12164554\n",
      "  -0.0279496 ]\n",
      " ...\n",
      " [-0.01991285 -0.00804793  0.13148019 ... -0.09971141 -0.08627526\n",
      "   0.06492684]\n",
      " [-0.06019181 -0.03270078 -0.05798714 ...  0.10756401  0.01484472\n",
      "   0.05823135]\n",
      " [-0.05915695  0.15763477 -0.04781971 ... -0.0521003  -0.09490329\n",
      "  -0.12444933]]\n",
      "Average Cosine Similarity: 0.807\n",
      "Average Length of g': 1.2771\n",
      "Normalized gi: 1\n",
      "Average Length of hi': 0.7745\n",
      "\n",
      "\n",
      "\n",
      "\n"
     ]
    }
   ],
   "source": [
    "easy_simulator(60, 100)\n"
   ]
  },
  {
   "cell_type": "code",
   "execution_count": 14,
   "metadata": {},
   "outputs": [
    {
     "name": "stdout",
     "output_type": "stream",
     "text": [
      "Now computing steps A-D with  80  pairs with a dimensionality of  100 \n",
      "\n",
      "Connectivity Matrix: [[-0.11565771  0.08791288 -0.02735736 ... -0.08403369 -0.03691376\n",
      "  -0.05431403]\n",
      " [ 0.02138522  0.03409064 -0.17718174 ...  0.02972828  0.01240139\n",
      "   0.06288913]\n",
      " [ 0.08162139 -0.03903549 -0.04603056 ... -0.03230381 -0.09142785\n",
      "   0.07291643]\n",
      " ...\n",
      " [ 0.08955225  0.06382426 -0.06963776 ... -0.07107767 -0.01292442\n",
      "   0.14965211]\n",
      " [-0.15037262 -0.0440498  -0.13621514 ...  0.09918412 -0.10950698\n",
      "  -0.07505876]\n",
      " [-0.01728308 -0.16355024  0.00425725 ... -0.04207097 -0.14064261\n",
      "   0.10075099]]\n",
      "Average Cosine Similarity: 0.743\n",
      "Average Length of g': 1.312\n",
      "Normalized gi: 1\n",
      "Average Length of hi': 0.8806\n",
      "\n",
      "\n",
      "\n",
      "\n"
     ]
    }
   ],
   "source": [
    "easy_simulator(80, 100)"
   ]
  },
  {
   "cell_type": "code",
   "execution_count": 15,
   "metadata": {},
   "outputs": [
    {
     "name": "stdout",
     "output_type": "stream",
     "text": [
      "Now computing steps A-D with  100  pairs with a dimensionality of  100 \n",
      "\n",
      "Connectivity Matrix: [[ 0.09891766  0.09165967  0.10562137 ...  0.1373944  -0.22456508\n",
      "  -0.00150544]\n",
      " [-0.20383538  0.18313298 -0.02284045 ...  0.01436803 -0.04264777\n",
      "  -0.00723147]\n",
      " [ 0.10424228  0.04574101  0.11811983 ... -0.07618739  0.15806032\n",
      "  -0.09199654]\n",
      " ...\n",
      " [ 0.03294313 -0.03793603 -0.03214301 ... -0.18673598 -0.04534547\n",
      "   0.13375137]\n",
      " [ 0.0045405   0.1759543  -0.02393003 ... -0.01048376  0.11027191\n",
      "   0.19356582]\n",
      " [ 0.15052509  0.13320518 -0.15344642 ...  0.1344187  -0.04110176\n",
      "   0.12408954]]\n"
     ]
    },
    {
     "name": "stdout",
     "output_type": "stream",
     "text": [
      "Average Cosine Similarity: 0.7024\n",
      "Average Length of g': 1.4244\n",
      "Normalized gi: 1\n",
      "Average Length of hi': 0.9954\n",
      "\n",
      "\n",
      "\n",
      "\n"
     ]
    }
   ],
   "source": [
    "easy_simulator(100, 100)"
   ]
  },
  {
   "cell_type": "markdown",
   "metadata": {},
   "source": [
    "What we notice with the followings situations is that when we start with the sample size of one pair, we saw almost perfect values as follows.\n",
    "\n",
    "```bash\n",
    "Average Cosine Similarity: 1.0\n",
    "Average Length of g': 1.0\n",
    "Normalized gi: 1\n",
    "Average Length of hi': 0.0757\n",
    "```\n",
    "\n",
    "When we increase the numbers of pairs that are stored, the values keep changing because the system begins to deteriorate. This has to do with how the system is not able to accurately recalled the stored associations and differentiate between new and stored inputs as its capacity is increasingly utilized."
   ]
  },
  {
   "cell_type": "markdown",
   "metadata": {},
   "source": [
    "## Question 4:"
   ]
  },
  {
   "cell_type": "code",
   "execution_count": 16,
   "metadata": {},
   "outputs": [],
   "source": [
    "def ablate_matrix(A, ablation_percent):\n",
    "    # Randomly set a percentage of the elements in the matrix A to zero.\n",
    "    A_ablated = A.copy()\n",
    "    total_elements = A.size\n",
    "    ablation_count = int(total_elements * ablation_percent / 100)\n",
    "    \n",
    "    # Select random indices to ablate\n",
    "    indices_to_ablate = np.unravel_index(\n",
    "        np.random.choice(total_elements, ablation_count, replace=False),\n",
    "        A.shape\n",
    "    )\n",
    "\n",
    "    A_ablated[indices_to_ablate] = 0\n",
    "    return A_ablated\n",
    "\n",
    "def test_ablated_matrix(original_A, ablated_A, vector_pairs):\n",
    "    # Test the ablated matrix by comparing the output using the original and ablated matrix.\n",
    "    cosine_similarities = []\n",
    "    for fi, _ in vector_pairs:\n",
    "        original_output = np.dot(original_A, fi)\n",
    "        ablated_output = np.dot(ablated_A, fi)\n",
    "        cosine_similarity = np.dot(original_output, ablated_output) / (np.linalg.norm(original_output) * np.linalg.norm(ablated_output))\n",
    "        cosine_similarities.append(cosine_similarity)\n",
    "    \n",
    "    # Average cosine similarity\n",
    "    avg_cosine_similarity = np.mean(cosine_similarities)\n",
    "    return avg_cosine_similarity"
   ]
  },
  {
   "cell_type": "code",
   "execution_count": 17,
   "metadata": {},
   "outputs": [
    {
     "name": "stdout",
     "output_type": "stream",
     "text": [
      "Ablation Percentage: 25%, Average Cosine Similarity: 0.9472\n"
     ]
    }
   ],
   "source": [
    "ablation_percent = 25  # Percentage of the matrix to ablate, can be modified\n",
    "ablated_A = ablate_matrix(A, ablation_percent)\n",
    "avg_cosine_similarity = test_ablated_matrix(A, ablated_A, vector_pairs)\n",
    "print(f\"Ablation Percentage: {ablation_percent}%, Average Cosine Similarity: {avg_cosine_similarity:.4f}\")\n"
   ]
  },
  {
   "cell_type": "code",
   "execution_count": 18,
   "metadata": {},
   "outputs": [
    {
     "name": "stdout",
     "output_type": "stream",
     "text": [
      "Ablation Percentage: 40%, Average Cosine Similarity: 0.9019\n"
     ]
    }
   ],
   "source": [
    "ablation_percent = 40  # Percentage of the matrix to ablate, can be modified\n",
    "ablated_A = ablate_matrix(A, ablation_percent)\n",
    "avg_cosine_similarity = test_ablated_matrix(A, ablated_A, vector_pairs)\n",
    "print(f\"Ablation Percentage: {ablation_percent}%, Average Cosine Similarity: {avg_cosine_similarity:.4f}\")\n"
   ]
  },
  {
   "cell_type": "code",
   "execution_count": 19,
   "metadata": {},
   "outputs": [
    {
     "name": "stdout",
     "output_type": "stream",
     "text": [
      "Ablation Percentage: 60%, Average Cosine Similarity: 0.8062\n"
     ]
    }
   ],
   "source": [
    "ablation_percent = 60  # Percentage of the matrix to ablate, can be modified\n",
    "ablated_A = ablate_matrix(A, ablation_percent)\n",
    "avg_cosine_similarity = test_ablated_matrix(A, ablated_A, vector_pairs)\n",
    "print(f\"Ablation Percentage: {ablation_percent}%, Average Cosine Similarity: {avg_cosine_similarity:.4f}\")\n"
   ]
  },
  {
   "cell_type": "code",
   "execution_count": 20,
   "metadata": {},
   "outputs": [
    {
     "name": "stdout",
     "output_type": "stream",
     "text": [
      "Ablation Percentage: 80%, Average Cosine Similarity: 0.6469\n"
     ]
    }
   ],
   "source": [
    "ablation_percent = 80  # Percentage of the matrix to ablate, can be modified\n",
    "ablated_A = ablate_matrix(A, ablation_percent)\n",
    "avg_cosine_similarity = test_ablated_matrix(A, ablated_A, vector_pairs)\n",
    "print(f\"Ablation Percentage: {ablation_percent}%, Average Cosine Similarity: {avg_cosine_similarity:.4f}\")\n"
   ]
  },
  {
   "cell_type": "markdown",
   "metadata": {},
   "source": [
    "As we can see, as we increase the ablation percentage, the cosine similarity keeps dropping. Losing part of the network doesnt necessarily mean that we lose all of the information. However, if certain nodes are critical, we might see larger losses within performance. If the network employs a distributed information approach, where data isn't localized to specific nodes but spread across the network, then the impact of damage could be less significant. "
   ]
  }
 ],
 "metadata": {
  "kernelspec": {
   "display_name": "venv",
   "language": "python",
   "name": "python3"
  },
  "language_info": {
   "codemirror_mode": {
    "name": "ipython",
    "version": 3
   },
   "file_extension": ".py",
   "mimetype": "text/x-python",
   "name": "python",
   "nbconvert_exporter": "python",
   "pygments_lexer": "ipython3",
   "version": "3.11.5"
  }
 },
 "nbformat": 4,
 "nbformat_minor": 2
}
