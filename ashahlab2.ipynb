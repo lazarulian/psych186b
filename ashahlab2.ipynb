{
 "cells": [
  {
   "cell_type": "code",
   "execution_count": 608,
   "metadata": {},
   "outputs": [],
   "source": [
    "# Apurva Shah, 705595011, Psych 186B\n",
    "# Homework 2\n",
    "\n",
    "# General Imports\n",
    "import random\n",
    "import matplotlib.pyplot as plt\n",
    "import numpy as np\n",
    "import matplotlib as mpl\n",
    "import math\n",
    "import statistics"
   ]
  },
  {
   "cell_type": "code",
   "execution_count": 609,
   "metadata": {},
   "outputs": [],
   "source": [
    "seed_value = 40\n",
    "random.seed(seed_value)"
   ]
  },
  {
   "cell_type": "code",
   "execution_count": 610,
   "metadata": {},
   "outputs": [],
   "source": [
    "# Utility Functions for Lab\n",
    "\n",
    "class VectorTools():\n",
    "    def __init__(self):\n",
    "        pass\n",
    "\n",
    "    def generate_vector(self, length):\n",
    "        # Function to generate a random vector of specified length \n",
    "        vector = np.random.randn(length)\n",
    "        return vector\n",
    "    \n",
    "    def normalize_mean(self, vector):\n",
    "        # Function to take vector and normalize its mean to zero\n",
    "        mean = np.mean(vector)\n",
    "        return vector - mean\n",
    "    \n",
    "    def normalize_vector(self, vector):\n",
    "        # Function to normalize a vector to unit length\n",
    "        norm = np.linalg.norm(vector)\n",
    "        return vector / norm if norm != 0 else vector\n",
    "        \n",
    "    def calculate_length(self, vector):\n",
    "        # Calculates the length of a vector given a vector\n",
    "        sum = 0\n",
    "        for i in vector:\n",
    "            sum += i**2\n",
    "        return math.sqrt(sum)\n",
    "    \n",
    "    def calculate_dot_product(self, v1, v2):\n",
    "        # Calculates the dot product between two vectors\n",
    "        dot_product = 0\n",
    "\n",
    "        # Vectors are not the same dimension\n",
    "        if len(v1) != len(v2):\n",
    "            raise Exception()\n",
    "\n",
    "        for i in range(0, len(v1)):\n",
    "            dot_product += v1[i]*v2[i]\n",
    "        \n",
    "        return dot_product\n",
    "\n",
    "vmod = VectorTools()"
   ]
  },
  {
   "cell_type": "markdown",
   "metadata": {},
   "source": [
    "## Question 1: "
   ]
  },
  {
   "cell_type": "code",
   "execution_count": 611,
   "metadata": {},
   "outputs": [
    {
     "name": "stdout",
     "output_type": "stream",
     "text": [
      "The cosine similarity for the two vectors are:  1.0\n",
      "The length of g' is:  1.0\n"
     ]
    }
   ],
   "source": [
    "# A: Generate two vectors f, g\n",
    "\n",
    "length = 100\n",
    "f = vmod.generate_vector(length)\n",
    "g = vmod.generate_vector(length)\n",
    "\n",
    "# B: Set the mean of the vectors to zero\n",
    "\n",
    "f = vmod.normalize_mean(f)\n",
    "g = vmod.normalize_mean(g)\n",
    "\n",
    "# C: Normalize the Vectors\n",
    "f_normalized = vmod.normalize_vector(f)\n",
    "g_normalized = vmod.normalize_vector(g)\n",
    "\n",
    "# D: Computer outer product A\n",
    "A = np.outer(g_normalized, f_normalized)\n",
    "\n",
    "# E: Show Af gives output g' which is the same direction as g...\n",
    "Af = np.dot(A, f_normalized)\n",
    "g_prime = Af/np.linalg.norm(Af)\n",
    "g_dot = np.dot(g_normalized, g_prime)\n",
    "\n",
    "cosine_similarity = round(g_dot / (np.linalg.norm(g_normalized) * np.linalg.norm(g_prime)), 2)\n",
    "g_length = round(np.linalg.norm(g_prime), 2)\n",
    "\n",
    "print(\"The cosine similarity for the two vectors are: \", cosine_similarity)\n",
    "print(\"The length of g' is: \", g_length)"
   ]
  },
  {
   "cell_type": "markdown",
   "metadata": {},
   "source": [
    "## Question 2:"
   ]
  },
  {
   "cell_type": "code",
   "execution_count": 612,
   "metadata": {},
   "outputs": [
    {
     "name": "stdout",
     "output_type": "stream",
     "text": [
      "The cosine similarity for the two vectors are:  -0.01\n",
      "The length of Af' is:  0.01\n"
     ]
    }
   ],
   "source": [
    "# A: Generate new normalized vector f'\n",
    "f_prime = vmod.generate_vector(length)\n",
    "f_prime_normalized = vmod.normalize_vector(f_prime)\n",
    "\n",
    "# B: Check to see if it is more or less orthogonal to f by looking at the cosine of the angle between f and f'.\n",
    "fdotprods = np.dot(f_normalized, f_prime_normalized)\n",
    "cosine_f_fprime = round(fdotprods / (np.linalg.norm(f_normalized) * np.linalg.norm(f_prime_normalized)), 2)\n",
    "print(\"The cosine similarity for the two vectors are: \", cosine_f_fprime)\n",
    "\n",
    "# C: Compute Af' and look at the length of this vector.\n",
    "\n",
    "Af_prime = np.dot(A ,f_prime_normalized)\n",
    "Af_length = round(np.linalg.norm(Af_prime), 2)\n",
    "print(\"The length of Af' is: \", Af_length)"
   ]
  },
  {
   "cell_type": "markdown",
   "metadata": {},
   "source": [
    "One thing that I noticed is that when producing the cosine of F' and the length of Af', the results are often the same. I was expecting Af' to be close to zero since I was expecting f to be closely orthogonal to f'. In terms of the cosine, when we are computing Af where A is the outer product of g and f and then use that with calculation to f', the vectors length will be the cosine of the angle between f and f'. "
   ]
  },
  {
   "cell_type": "markdown",
   "metadata": {},
   "source": [
    "## Question 3:"
   ]
  },
  {
   "cell_type": "code",
   "execution_count": 613,
   "metadata": {},
   "outputs": [
    {
     "name": "stdout",
     "output_type": "stream",
     "text": [
      "Connectivity Matrix: [[ 0.07743797 -0.06846013  0.01814494 ...  0.02857812  0.00946473\n",
      "  -0.03162268]\n",
      " [-0.05022597  0.05587505  0.06948668 ... -0.07493525  0.07344285\n",
      "  -0.0315384 ]\n",
      " [ 0.09373893 -0.0564192   0.05264766 ... -0.01937676  0.10188207\n",
      "   0.04890553]\n",
      " ...\n",
      " [ 0.05518311  0.04696992 -0.02738645 ...  0.13518326 -0.0820915\n",
      "  -0.01490466]\n",
      " [ 0.05550199  0.02032033  0.08150788 ...  0.06456444 -0.0003147\n",
      "  -0.06530808]\n",
      " [-0.03366976  0.04156229 -0.01840438 ... -0.07995343  0.02628681\n",
      "  -0.07727584]]\n"
     ]
    }
   ],
   "source": [
    "\n",
    "def generate_vector_pairs(num_pairs, vector_length):\n",
    "    # Generate many pairs of normalized random vectors\n",
    "    pairs = []\n",
    "    for i in range(num_pairs):\n",
    "        fi = vmod.generate_vector(vector_length)\n",
    "        gi = vmod.generate_vector(vector_length)\n",
    "        fi_normalized = vmod.normalize_vector(fi)\n",
    "        gi_normalized = vmod.normalize_vector(gi)\n",
    "        pairs.append((fi_normalized, gi_normalized))\n",
    "    return pairs\n",
    "\n",
    "def compute_individual_outer_product_matrices(vector_pairs):\n",
    "    outer_product_matrices = []\n",
    "    for fi, gi in vector_pairs:\n",
    "        Ai = np.outer(gi, fi)\n",
    "        outer_product_matrices.append(Ai)\n",
    "    return outer_product_matrices\n",
    "\n",
    "def compute_connectivity_matrix(vector_pairs):\n",
    "    # Compute the overall connectivity matrix A from vector pairs\n",
    "    A = np.zeros((len(vector_pairs[0][0]), len(vector_pairs[0][0])))\n",
    "    for fi, gi in vector_pairs:\n",
    "        Ai = np.outer(gi, fi)\n",
    "        A += Ai\n",
    "        # Transposing Matrix\n",
    "        transposed = np.transpose(A)\n",
    "    return A\n",
    "\n",
    "# A: Generate many pairs of normalized random vectors fi, and gi\n",
    "vector_pairs = generate_vector_pairs(50, 100)\n",
    "\n",
    "# B: Compute outer product matrices.\n",
    "outer_product_matrices = compute_individual_outer_product_matrices(vector_pairs)\n",
    "\n",
    "# C: Form overall connectivity matrix. \n",
    "\n",
    "# I am not using the outerproduct matrix because its a bit tedious to edit that code to add in the connectivity stuff. Better to \n",
    "# modularize it separately. \n",
    "A = compute_connectivity_matrix(vector_pairs)\n",
    "\n",
    "print(\"Connectivity Matrix:\", A)"
   ]
  },
  {
   "cell_type": "code",
   "execution_count": 614,
   "metadata": {},
   "outputs": [
    {
     "name": "stdout",
     "output_type": "stream",
     "text": [
      "Average Cosine Similarity: 0.8265\n",
      "Average Length of g': 1.2168\n",
      "Average Length of hi': 0.6897\n"
     ]
    }
   ],
   "source": [
    "# D Test the resulting matrix A from above as follows:\n",
    "def test_connectivity_matrix_with_averages(A, vector_pairs, num_test_vectors):\n",
    "    total_cosine_similarity = 0\n",
    "    total_length_g_prime = 0\n",
    "    results = []\n",
    "\n",
    "    # Test with stored vectors (3D1, 3D2, 3D3)\n",
    "    for fi, gi in vector_pairs:\n",
    "        # 3D1: Compute the actual/observed output g' for each stored input fi using A\n",
    "        g_prime = np.dot(A, fi)\n",
    "        \n",
    "        # 3D2: Compare it with gi by computing the cosine between gi and g'\n",
    "        cosine_similarity = np.dot(gi, g_prime) / (np.linalg.norm(gi) * np.linalg.norm(g_prime))\n",
    "\n",
    "        # 3D3: Compute the length of the output vector g'\n",
    "        length_g_prime = np.linalg.norm(g_prime)\n",
    "\n",
    "        # Accumulate the cosine similarity and length of g'\n",
    "        total_cosine_similarity += cosine_similarity\n",
    "        total_length_g_prime += length_g_prime\n",
    "        results.append((cosine_similarity, length_g_prime))\n",
    "\n",
    "    # Averages for printing\n",
    "    avg_cosine_similarity = total_cosine_similarity / len(vector_pairs)\n",
    "    avg_length_g_prime = total_length_g_prime / len(vector_pairs)\n",
    "\n",
    "# 3D4: Generate new test vectors and test selectivity\n",
    "    test_vector_lengths = []\n",
    "    for _ in range(num_test_vectors):\n",
    "        hi = vmod.normalize_vector(vmod.generate_vector(len(A)))\n",
    "        hi_prime = np.dot(A, hi)\n",
    "        test_vector_lengths.append(np.linalg.norm(hi_prime))\n",
    "\n",
    "    # Returning average length of hi' and the average cosine similarity and length of g'\n",
    "    return results, avg_cosine_similarity, avg_length_g_prime, np.mean(test_vector_lengths)\n",
    "\n",
    "# Run the test with averages\n",
    "test_results, avg_cosine_similarity, avg_length_g_prime, average_length_hi_prime = test_connectivity_matrix_with_averages(A, vector_pairs, 50)\n",
    "\n",
    "# Printing the averages\n",
    "print(\"Average Cosine Similarity:\", round(avg_cosine_similarity, 4))\n",
    "print(f\"Average Length of g':\", round(avg_length_g_prime, 4))\n",
    "print(f\"Average Length of hi':\", round(average_length_hi_prime, 4))"
   ]
  },
  {
   "cell_type": "code",
   "execution_count": 615,
   "metadata": {},
   "outputs": [
    {
     "data": {
      "image/png": "[encoded data removed]",
      "text/plain": [
       "<Figure size 1000x600 with 1 Axes>"
      ]
     },
     "metadata": {},
     "output_type": "display_data"
    }
   ],
   "source": [
    "# Extra Graphing\n",
    "length_gi = 1 # 1 because normalized\n",
    "lengths_hi_prime = [length for _, length in test_results]\n",
    "lengths_data = lengths_hi_prime + [length_gi] * len(lengths_hi_prime)\n",
    "\n",
    "# Labels\n",
    "labels = ['hi\\''] * len(lengths_hi_prime) + ['gi'] * len(lengths_hi_prime)\n",
    "\n",
    "# Creating the histogram\n",
    "plt.figure(figsize=(10, 6))\n",
    "plt.hist([lengths_hi_prime, [length_gi] * len(lengths_hi_prime)], bins=20, label=['hi\\'', 'gi'])\n",
    "plt.xlabel('Length of Output Vector')\n",
    "plt.ylabel('Frequency')\n",
    "plt.title('Histogram of Lengths of Output Vectors')\n",
    "plt.legend()\n",
    "plt.show()\n"
   ]
  },
  {
   "cell_type": "code",
   "execution_count": 616,
   "metadata": {},
   "outputs": [],
   "source": [
    "# 3E\n",
    "\n",
    "def easy_simulator(num_pairs, dimensionality):\n",
    "    # Utility function to avoid code repetition for steps 3a-3d\n",
    "    vector_pairs = generate_vector_pairs(num_pairs, dimensionality)\n",
    "    outer_product_matrices = compute_individual_outer_product_matrices(vector_pairs)\n",
    "    A = compute_connectivity_matrix(vector_pairs)\n",
    "    print(\"Now computing steps A-D with \", num_pairs, \" pairs with a dimensionality of \", dimensionality, \"\\n\")\n",
    "    print(\"Connectivity Matrix:\", A)\n",
    "    test_results, avg_cosine_similarity, avg_length_g_prime, average_length_hi_prime = test_connectivity_matrix_with_averages(A, vector_pairs, 50)\n",
    "    # Printing the averages\n",
    "    print(\"Average Cosine Similarity:\", round(avg_cosine_similarity, 4))\n",
    "    print(f\"Average Length of g':\", round(avg_length_g_prime, 4))\n",
    "    print(\"Normalized gi:\", 1)\n",
    "    print(f\"Average Length of hi':\", round(average_length_hi_prime, 4))\n",
    "    print(\"\\n\")\n",
    "    print(\"\\n\")"
   ]
  },
  {
   "cell_type": "code",
   "execution_count": 617,
   "metadata": {},
   "outputs": [
    {
     "name": "stdout",
     "output_type": "stream",
     "text": [
      "Now computing steps A-D with  1  pairs with a dimensionality of  100 \n",
      "\n",
      "Connectivity Matrix: [[-0.03086249 -0.01789815 -0.02051052 ...  0.00258006  0.00724614\n",
      "   0.00754568]\n",
      " [-0.02000609 -0.01160218 -0.0132956  ...  0.00167248  0.00469719\n",
      "   0.00489136]\n",
      " [-0.01910649 -0.01108047 -0.01269774 ...  0.00159728  0.00448597\n",
      "   0.00467141]\n",
      " ...\n",
      " [ 0.01768394  0.01025548  0.01175235 ... -0.00147835 -0.00415197\n",
      "  -0.00432361]\n",
      " [ 0.03265669  0.01893866  0.0217029  ... -0.00273005 -0.00766739\n",
      "  -0.00798435]\n",
      " [ 0.01301235  0.00754628  0.00864771 ... -0.00108781 -0.00305514\n",
      "  -0.00318144]]\n",
      "Average Cosine Similarity: 1.0\n",
      "Average Length of g': 1.0\n",
      "Normalized gi: 1\n",
      "Average Length of hi': 0.0771\n",
      "\n",
      "\n",
      "\n",
      "\n"
     ]
    }
   ],
   "source": [
    "easy_simulator(1, 100)"
   ]
  },
  {
   "cell_type": "code",
   "execution_count": 618,
   "metadata": {},
   "outputs": [
    {
     "name": "stdout",
     "output_type": "stream",
     "text": [
      "Now computing steps A-D with  20  pairs with a dimensionality of  100 \n",
      "\n",
      "Connectivity Matrix: [[-0.01125557  0.02871337  0.06074862 ...  0.02570274 -0.0271315\n",
      "   0.00805492]\n",
      " [ 0.01274222 -0.0571486   0.10349135 ...  0.00366868 -0.00509837\n",
      "  -0.05131098]\n",
      " [ 0.0749379  -0.02539528 -0.00310635 ...  0.02040018 -0.03001627\n",
      "   0.0082784 ]\n",
      " ...\n",
      " [-0.00219335 -0.01091494  0.00497023 ...  0.01054133 -0.01298641\n",
      "  -0.01004914]\n",
      " [-0.08457059  0.06457947  0.03271748 ...  0.02861587  0.08258733\n",
      "  -0.04520157]\n",
      " [ 0.03232976  0.03536506 -0.0351822  ... -0.04790124  0.02358358\n",
      "   0.02062218]]\n",
      "Average Cosine Similarity: 0.9237\n",
      "Average Length of g': 1.0909\n",
      "Normalized gi: 1\n",
      "Average Length of hi': 0.4624\n",
      "\n",
      "\n",
      "\n",
      "\n"
     ]
    }
   ],
   "source": [
    "easy_simulator(20, 100)\n"
   ]
  },
  {
   "cell_type": "code",
   "execution_count": 619,
   "metadata": {},
   "outputs": [
    {
     "name": "stdout",
     "output_type": "stream",
     "text": [
      "Now computing steps A-D with  40  pairs with a dimensionality of  100 \n",
      "\n",
      "Connectivity Matrix: [[ 0.06984667  0.0304382   0.07416363 ...  0.08113504 -0.04743608\n",
      "  -0.02929912]\n",
      " [-0.00436409  0.02762569  0.0954763  ...  0.02300562  0.01401138\n",
      "  -0.12744512]\n",
      " [-0.0049667  -0.00588498  0.01018371 ... -0.02203712  0.11809029\n",
      "  -0.041135  ]\n",
      " ...\n",
      " [ 0.0011459  -0.04374977  0.0156769  ... -0.02476371 -0.10091672\n",
      "  -0.06735564]\n",
      " [-0.04398126  0.01074801  0.00711916 ...  0.05131799  0.05199312\n",
      "  -0.0217603 ]\n",
      " [-0.00422184 -0.02146663  0.08880015 ...  0.02441335 -0.01553034\n",
      "   0.06530484]]\n",
      "Average Cosine Similarity: 0.8553\n",
      "Average Length of g': 1.1834\n",
      "Normalized gi: 1\n",
      "Average Length of hi': 0.6295\n",
      "\n",
      "\n",
      "\n",
      "\n"
     ]
    }
   ],
   "source": [
    "easy_simulator(40, 100)\n"
   ]
  },
  {
   "cell_type": "code",
   "execution_count": 620,
   "metadata": {},
   "outputs": [
    {
     "name": "stdout",
     "output_type": "stream",
     "text": [
      "Now computing steps A-D with  60  pairs with a dimensionality of  100 \n",
      "\n",
      "Connectivity Matrix: [[ 0.03583031 -0.02099815  0.00994606 ... -0.0656654   0.14243574\n",
      "   0.12633143]\n",
      " [-0.06614055  0.08309047 -0.03760666 ...  0.03621899  0.15012861\n",
      "   0.02073563]\n",
      " [-0.03185482  0.10976583 -0.01501595 ...  0.01979086  0.08541092\n",
      "   0.09862972]\n",
      " ...\n",
      " [ 0.04314794  0.0679037  -0.01026892 ...  0.24288547 -0.02483011\n",
      "  -0.01683958]\n",
      " [-0.09351478 -0.15946687  0.08245043 ... -0.03156117  0.09239019\n",
      "   0.0141673 ]\n",
      " [ 0.16689377  0.03437015 -0.00982293 ...  0.00985563  0.04051556\n",
      "  -0.03888737]]\n",
      "Average Cosine Similarity: 0.7947\n",
      "Average Length of g': 1.2269\n",
      "Normalized gi: 1\n",
      "Average Length of hi': 0.7735\n",
      "\n",
      "\n",
      "\n",
      "\n"
     ]
    }
   ],
   "source": [
    "easy_simulator(60, 100)\n"
   ]
  },
  {
   "cell_type": "code",
   "execution_count": 621,
   "metadata": {},
   "outputs": [
    {
     "name": "stdout",
     "output_type": "stream",
     "text": [
      "Now computing steps A-D with  80  pairs with a dimensionality of  100 \n",
      "\n",
      "Connectivity Matrix: [[ 0.11589518 -0.0697332   0.11419321 ...  0.00589214 -0.06741552\n",
      "   0.00787303]\n",
      " [-0.0303853  -0.00757936  0.06869956 ... -0.06339726 -0.01303992\n",
      "  -0.08057422]\n",
      " [ 0.06637818  0.014085    0.09017021 ...  0.07555319 -0.18549865\n",
      "   0.03064496]\n",
      " ...\n",
      " [ 0.02074617 -0.03539734  0.08684202 ... -0.06930857 -0.11817382\n",
      "  -0.01086291]\n",
      " [ 0.0458134   0.05810466  0.0052812  ...  0.0916321  -0.14577775\n",
      "  -0.01326008]\n",
      " [ 0.0491971   0.17856692  0.02124841 ...  0.11762294 -0.07791764\n",
      "  -0.06262861]]\n",
      "Average Cosine Similarity: 0.7499\n",
      "Average Length of g': 1.381\n",
      "Normalized gi: 1\n",
      "Average Length of hi': 0.9088\n",
      "\n",
      "\n",
      "\n",
      "\n"
     ]
    }
   ],
   "source": [
    "easy_simulator(80, 100)"
   ]
  },
  {
   "cell_type": "code",
   "execution_count": 622,
   "metadata": {},
   "outputs": [
    {
     "name": "stdout",
     "output_type": "stream",
     "text": [
      "Now computing steps A-D with  100  pairs with a dimensionality of  100 \n",
      "\n",
      "Connectivity Matrix: [[ 0.08122385  0.08307604 -0.06553609 ...  0.11056426 -0.07503769\n",
      "  -0.03200313]\n",
      " [-0.06177786 -0.03331628  0.0772117  ... -0.02751058  0.08101872\n",
      "  -0.06055143]\n",
      " [ 0.05081872  0.09317479 -0.0471984  ...  0.09909764  0.02784787\n",
      "   0.22705982]\n",
      " ...\n",
      " [-0.06621134  0.08788577 -0.07013964 ... -0.17744823  0.21064761\n",
      "  -0.16627176]\n",
      " [ 0.10542604 -0.10918103 -0.09280737 ... -0.02155112  0.02173337\n",
      "  -0.10200039]\n",
      " [ 0.02547006 -0.30625677  0.27897435 ... -0.10420367 -0.05590742\n",
      "  -0.00381816]]\n",
      "Average Cosine Similarity: 0.7036\n",
      "Average Length of g': 1.3987\n",
      "Normalized gi: 1\n",
      "Average Length of hi': 0.9832\n",
      "\n",
      "\n",
      "\n",
      "\n"
     ]
    }
   ],
   "source": [
    "easy_simulator(100, 100)"
   ]
  },
  {
   "cell_type": "markdown",
   "metadata": {},
   "source": [
    "What we notice with the followings situations is that when we start with the sample size of one pair, we saw almost perfect values as follows.\n",
    "\n",
    "```bash\n",
    "Average Cosine Similarity: 1.0\n",
    "Average Length of g': 1.0\n",
    "Normalized gi: 1\n",
    "Average Length of hi': 0.0757\n",
    "```\n",
    "\n",
    "When we increase the numbers of pairs that are stored, the values keep changing because the system begins to deteriorate. This has to do with how the system is not able to accurately recalled the stored associations and differentiate between new and stored inputs as its capacity is increasingly utilized."
   ]
  },
  {
   "cell_type": "markdown",
   "metadata": {},
   "source": [
    "## Question 4:"
   ]
  },
  {
   "cell_type": "code",
   "execution_count": 623,
   "metadata": {},
   "outputs": [],
   "source": [
    "def ablate_matrix(A, ablation_percent):\n",
    "    # Randomly set a percentage of the elements in the matrix A to zero.\n",
    "    A_ablated = A.copy()\n",
    "    total_elements = A.size\n",
    "    ablation_count = int(total_elements * ablation_percent / 100)\n",
    "    \n",
    "    # Select random indices to ablate\n",
    "    indices_to_ablate = np.unravel_index(\n",
    "        np.random.choice(total_elements, ablation_count, replace=False),\n",
    "        A.shape\n",
    "    )\n",
    "\n",
    "    A_ablated[indices_to_ablate] = 0\n",
    "    return A_ablated\n",
    "\n",
    "def test_ablated_matrix(original_A, ablated_A, vector_pairs):\n",
    "    # Test the ablated matrix by comparing the output using the original and ablated matrix.\n",
    "    cosine_similarities = []\n",
    "    for fi, _ in vector_pairs:\n",
    "        original_output = np.dot(original_A, fi)\n",
    "        ablated_output = np.dot(ablated_A, fi)\n",
    "        cosine_similarity = np.dot(original_output, ablated_output) / (np.linalg.norm(original_output) * np.linalg.norm(ablated_output))\n",
    "        cosine_similarities.append(cosine_similarity)\n",
    "    \n",
    "    # Average cosine similarity\n",
    "    avg_cosine_similarity = np.mean(cosine_similarities)\n",
    "    return avg_cosine_similarity"
   ]
  },
  {
   "cell_type": "code",
   "execution_count": 624,
   "metadata": {},
   "outputs": [
    {
     "name": "stdout",
     "output_type": "stream",
     "text": [
      "Ablation Percentage: 25%, Average Cosine Similarity: 0.9472\n"
     ]
    }
   ],
   "source": [
    "ablation_percent = 25  # Percentage of the matrix to ablate, can be modified\n",
    "ablated_A = ablate_matrix(A, ablation_percent)\n",
    "avg_cosine_similarity = test_ablated_matrix(A, ablated_A, vector_pairs)\n",
    "print(f\"Ablation Percentage: {ablation_percent}%, Average Cosine Similarity: {avg_cosine_similarity:.4f}\")\n"
   ]
  },
  {
   "cell_type": "code",
   "execution_count": 625,
   "metadata": {},
   "outputs": [
    {
     "name": "stdout",
     "output_type": "stream",
     "text": [
      "Ablation Percentage: 40%, Average Cosine Similarity: 0.8974\n"
     ]
    }
   ],
   "source": [
    "ablation_percent = 40  # Percentage of the matrix to ablate, can be modified\n",
    "ablated_A = ablate_matrix(A, ablation_percent)\n",
    "avg_cosine_similarity = test_ablated_matrix(A, ablated_A, vector_pairs)\n",
    "print(f\"Ablation Percentage: {ablation_percent}%, Average Cosine Similarity: {avg_cosine_similarity:.4f}\")\n"
   ]
  },
  {
   "cell_type": "code",
   "execution_count": 626,
   "metadata": {},
   "outputs": [
    {
     "name": "stdout",
     "output_type": "stream",
     "text": [
      "Ablation Percentage: 60%, Average Cosine Similarity: 0.8139\n"
     ]
    }
   ],
   "source": [
    "ablation_percent = 60  # Percentage of the matrix to ablate, can be modified\n",
    "ablated_A = ablate_matrix(A, ablation_percent)\n",
    "avg_cosine_similarity = test_ablated_matrix(A, ablated_A, vector_pairs)\n",
    "print(f\"Ablation Percentage: {ablation_percent}%, Average Cosine Similarity: {avg_cosine_similarity:.4f}\")\n"
   ]
  },
  {
   "cell_type": "code",
   "execution_count": 627,
   "metadata": {},
   "outputs": [
    {
     "name": "stdout",
     "output_type": "stream",
     "text": [
      "Ablation Percentage: 80%, Average Cosine Similarity: 0.6407\n"
     ]
    }
   ],
   "source": [
    "ablation_percent = 80  # Percentage of the matrix to ablate, can be modified\n",
    "ablated_A = ablate_matrix(A, ablation_percent)\n",
    "avg_cosine_similarity = test_ablated_matrix(A, ablated_A, vector_pairs)\n",
    "print(f\"Ablation Percentage: {ablation_percent}%, Average Cosine Similarity: {avg_cosine_similarity:.4f}\")\n"
   ]
  },
  {
   "cell_type": "markdown",
   "metadata": {},
   "source": [
    "As we can see, as we increase the ablation percentage, the cosine similarity keeps dropping. Losing part of the network doesnt necessarily mean that we lose all of the information. However, if certain nodes are critical, we might see larger losses within performance. If the network employs a distributed information approach, where data isn't localized to specific nodes but spread across the network, then the impact of damage could be less significant. "
   ]
  }
 ],
 "metadata": {
  "kernelspec": {
   "display_name": "venv",
   "language": "python",
   "name": "python3"
  },
  "language_info": {
   "codemirror_mode": {
    "name": "ipython",
    "version": 3
   },
   "file_extension": ".py",
   "mimetype": "text/x-python",
   "name": "python",
   "nbconvert_exporter": "python",
   "pygments_lexer": "ipython3",
   "version": "3.11.5"
  }
 },
 "nbformat": 4,
 "nbformat_minor": 2
}
