{
 "cells": [
  {
   "cell_type": "code",
   "execution_count": 322,
   "metadata": {},
   "outputs": [],
   "source": [
    "# Apurva Shah, 705595011, Psych 186B\n",
    "# Homework 6\n",
    "\n",
    "# General Imports\n",
    "import random\n",
    "import matplotlib.pyplot as plt\n",
    "import numpy as np\n",
    "import matplotlib as mpl\n",
    "import math\n",
    "import statistics"
   ]
  },
  {
   "cell_type": "markdown",
   "metadata": {},
   "source": [
    "### Model Building\n",
    "\n",
    "In the following homework, we get the model to converge with a SSE <= 0.01 in less than 1000 epochs. The SSE values are plotted to visualize convergence and output differences."
   ]
  },
  {
   "cell_type": "code",
   "execution_count": 323,
   "metadata": {},
   "outputs": [],
   "source": [
    "# 1) Initial Parameter Setup\n",
    "\n",
    "lrate = 1\n",
    "num_input_units = 8\n",
    "num_hidden_units = 3\n",
    "num_output_units = 1"
   ]
  },
  {
   "cell_type": "code",
   "execution_count": 324,
   "metadata": {},
   "outputs": [
    {
     "name": "stdout",
     "output_type": "stream",
     "text": [
      "[[1. 0. 1. 1. 1. 0. 0. 0.]\n",
      " [0. 0. 1. 1. 0. 1. 1. 1.]\n",
      " [0. 1. 1. 1. 1. 1. 1. 1.]\n",
      " [1. 1. 0. 0. 1. 1. 1. 0.]\n",
      " [1. 0. 0. 1. 0. 1. 0. 0.]\n",
      " [1. 1. 1. 1. 1. 1. 1. 0.]\n",
      " [1. 1. 0. 0. 1. 1. 0. 1.]\n",
      " [0. 1. 0. 1. 0. 0. 1. 1.]]\n",
      "[1 0 0 0 0 0 0 1]\n"
     ]
    }
   ],
   "source": [
    "# Step 2: Generate Training Patterns\n",
    "patterns = np.round(np.random.rand(8, num_input_units))\n",
    "# Determine desired output for each pattern based on parity\n",
    "desired_output = np.array([1 if np.sum(pattern) % 2 == 0 else 0 for pattern in patterns])\n",
    "\n",
    "print(patterns)\n",
    "print(desired_output)\n"
   ]
  },
  {
   "cell_type": "code",
   "execution_count": 325,
   "metadata": {},
   "outputs": [
    {
     "name": "stdout",
     "output_type": "stream",
     "text": [
      "Row 0 has 4 ones. Therefore it is even.\n",
      "1\n",
      "Row 1 has 5 ones. Therefore it is odd \n",
      "0\n",
      "Row 2 has 7 ones. Therefore it is odd \n",
      "0\n",
      "Row 3 has 5 ones. Therefore it is odd \n",
      "0\n",
      "Row 4 has 3 ones. Therefore it is odd \n",
      "0\n",
      "Row 5 has 7 ones. Therefore it is odd \n",
      "0\n",
      "Row 6 has 5 ones. Therefore it is odd \n",
      "0\n",
      "Row 7 has 4 ones. Therefore it is even.\n",
      "1\n",
      "The output array is [1, 0, 0, 0, 0, 0, 0, 1]\n",
      "(8,)\n"
     ]
    }
   ],
   "source": [
    "# 3) Determine desired output for each pattern\n",
    "# Calculating the desired output based on the parity of the number of ones in each pattern\n",
    "output = 0\n",
    "outputCounter=[]\n",
    "for i in range(patterns.shape[0]):\n",
    "    row = patterns[i,:].ravel()  \n",
    "    ones_count = np.count_nonzero(row == 1) \n",
    "    if np.mod(ones_count, 2) == 0:\n",
    "        print(f\"Row {i} has {ones_count} ones. Therefore it is even.\")\n",
    "        output = 1 \n",
    "        outputCounter.append(output)\n",
    "        print(output)\n",
    "        \n",
    "        \n",
    "    else:\n",
    "        print(f\"Row {i} has {ones_count} ones. Therefore it is odd \")\n",
    "        output\n",
    "        outputCounter.append(output)\n",
    "        print(output)\n",
    "\n",
    "    output=0\n",
    "print(\"The output array is\",outputCounter)\n",
    "\n",
    "desired_output = np.array(outputCounter)\n",
    "print(desired_output.shape)"
   ]
  },
  {
   "cell_type": "code",
   "execution_count": 326,
   "metadata": {},
   "outputs": [],
   "source": [
    "# 4) Creation of matrices that connect the input to hidden units and hidden units to output\n",
    "# Initializing weight matrices with random values between -0.5 and 0.5\n",
    "\n",
    "w_fg = np.random.uniform(-0.5, 0.5, (num_input_units, num_hidden_units))\n",
    "w_gh = np.random.uniform(-0.5, 0.5, (num_hidden_units, num_output_units))"
   ]
  },
  {
   "cell_type": "code",
   "execution_count": 327,
   "metadata": {},
   "outputs": [],
   "source": [
    "def activation_fn(x):\n",
    "    return 1 / (1 + np.exp(-x))\n",
    "\n",
    "def derivative_activation_fn(x):\n",
    "    return activation_fn(x) * (1 - activation_fn(x))"
   ]
  },
  {
   "cell_type": "code",
   "execution_count": 328,
   "metadata": {},
   "outputs": [
    {
     "name": "stdout",
     "output_type": "stream",
     "text": [
      "Epoch: 0, SSE: 1.6204695456241562\n",
      "Epoch: 10, SSE: 1.332889556799915\n",
      "Epoch: 20, SSE: 1.0740878250743937\n",
      "Epoch: 30, SSE: 0.5642861760062269\n",
      "Epoch: 40, SSE: 0.22340874756395057\n",
      "Epoch: 50, SSE: 0.09816756156961337\n",
      "Epoch: 60, SSE: 0.05020852788014634\n",
      "Epoch: 70, SSE: 0.02914494672339074\n",
      "Epoch: 80, SSE: 0.01860426684268361\n",
      "Epoch: 90, SSE: 0.012743686873863798\n",
      "Convergence reached at epoch 98.\n"
     ]
    }
   ],
   "source": [
    "max_epochs = 1000\n",
    "\n",
    "sseArr = []\n",
    "\n",
    "for epoch in range(max_epochs + 1):\n",
    "    # Forward pass\n",
    "    hidden_activation = activation_fn(np.dot(patterns, w_fg))\n",
    "    output_activation = activation_fn(np.dot(hidden_activation, w_gh))\n",
    "\n",
    "    # Compute output error\n",
    "    output_error = desired_output.reshape(-1, 1) - output_activation\n",
    "\n",
    "    # Backpropagation and weight update corrected\n",
    "    delta_w_gh = lrate * np.dot(hidden_activation.T, output_error * derivative_activation_fn(output_activation))\n",
    "    delta_hidden_error = np.dot(output_error * derivative_activation_fn(output_activation), w_gh.T)\n",
    "    delta_w_fg = lrate * np.dot(patterns.T, delta_hidden_error * derivative_activation_fn(hidden_activation))\n",
    "    \n",
    "    # Update weights\n",
    "    w_fg += delta_w_fg\n",
    "    w_gh += delta_w_gh\n",
    "\n",
    "    # Recompute output after weight update for SSE calculation\n",
    "    hidden_activation = activation_fn(np.dot(patterns, w_fg))\n",
    "    output_activation = activation_fn(np.dot(hidden_activation, w_gh))\n",
    "    output_error = desired_output.reshape(-1, 1) - output_activation\n",
    "    sse = np.sum(output_error**2)\n",
    "\n",
    "    sseArr.append(sse)\n",
    "\n",
    "    if epoch % 10 == 0:\n",
    "        print(f\"Epoch: {epoch}, SSE: {sse}\")\n",
    "\n",
    "    if sse < 0.01:\n",
    "        print(f\"Convergence reached at epoch {epoch}.\")\n",
    "        break\n",
    "else:\n",
    "    print(\"WARNING: Model did not converge\")"
   ]
  },
  {
   "cell_type": "code",
   "execution_count": 329,
   "metadata": {},
   "outputs": [
    {
     "data": {
      "image/png": "[encoded data removed]",
      "text/plain": [
       "<Figure size 640x480 with 1 Axes>"
      ]
     },
     "metadata": {},
     "output_type": "display_data"
    }
   ],
   "source": [
    "# Plot SSE vs Epoch\n",
    "plt.plot(sseArr)\n",
    "plt.title(\"SSE vs Epoch\")\n",
    "plt.xlabel(\"Epoch\")\n",
    "plt.ylabel(\"SSE\")\n",
    "plt.show()"
   ]
  },
  {
   "cell_type": "code",
   "execution_count": 330,
   "metadata": {},
   "outputs": [
    {
     "data": {
      "image/png": "[encoded data removed]",
      "text/plain": [
       "<Figure size 1200x600 with 2 Axes>"
      ]
     },
     "metadata": {},
     "output_type": "display_data"
    }
   ],
   "source": [
    "# Display desired vs actual outputs\n",
    "fig, axs = plt.subplots(1, 2, figsize=(12, 6))\n",
    "axs[0].imshow(desired_output.reshape(1, -1), cmap='hot', interpolation='nearest')\n",
    "axs[0].set_title(\"Desired Outputs\")\n",
    "axs[1].imshow(output_activation.reshape(1, -1), cmap='hot', interpolation='nearest')\n",
    "axs[1].set_title(\"Actual Outputs\")\n",
    "plt.show()"
   ]
  },
  {
   "cell_type": "markdown",
   "metadata": {},
   "source": [
    "### Testing the Model\n",
    "\n",
    "To test the generalization performance of the previously developed model, we introduce a fresh batch of patterns and process them through the model without altering the weights. The Sum of Squared Errors (SSE) for these new patterns demonstrates a notable increase, with values oscillating between 1 and 4. This indicates a limitation in the model's ability to generalize effectively. The model struggles to accurately assess the parity of its input units, shown by the visual comparison of desired and actual outputs, highlighting a discrepancy between what was expected and what the model predicted."
   ]
  },
  {
   "cell_type": "code",
   "execution_count": 331,
   "metadata": {},
   "outputs": [
    {
     "name": "stdout",
     "output_type": "stream",
     "text": [
      "SSE of the newly-generated random patterns: 1.9633155148016108\n"
     ]
    },
    {
     "data": {
      "image/png": "[encoded data removed]",
      "text/plain": [
       "<Figure size 1200x600 with 2 Axes>"
      ]
     },
     "metadata": {},
     "output_type": "display_data"
    },
    {
     "name": "stdout",
     "output_type": "stream",
     "text": [
      "Desired Outputs for New Patterns: [0 0 1 0 0 0 1 0]\n",
      "Actual Outputs for New Patterns: [0.20867691 0.11116772 0.58613201 0.96146642 0.00936992 0.89992444\n",
      " 0.9594129  0.01037764]\n"
     ]
    }
   ],
   "source": [
    "# Generating new set of patterns for testing\n",
    "new_patterns = np.round(np.random.rand(8, num_input_units))\n",
    "\n",
    "# Calculating the desired output for new patterns\n",
    "new_desired_output = np.array([1 if np.sum(pattern) % 2 == 0 else 0 for pattern in new_patterns])\n",
    "\n",
    "# Forward pass through the model with new patterns\n",
    "new_hidden_activation = activation_fn(np.dot(new_patterns, w_fg))\n",
    "new_output_activation = activation_fn(np.dot(new_hidden_activation, w_gh))\n",
    "\n",
    "# Compute output error for new patterns\n",
    "new_output_error = new_desired_output.reshape(-1, 1) - new_output_activation\n",
    "new_sse = np.sum(new_output_error**2)\n",
    "\n",
    "print(\"SSE of the newly-generated random patterns:\", new_sse)\n",
    "\n",
    "# Display desired vs actual outputs for new patterns\n",
    "fig, axs = plt.subplots(1, 2, figsize=(12, 6))\n",
    "axs[0].imshow(new_desired_output.reshape(1, -1), cmap='hot', interpolation='nearest')\n",
    "axs[0].set_title(\"Desired Outputs for New Patterns\")\n",
    "axs[1].imshow(new_output_activation.reshape(1, -1), cmap='hot', interpolation='nearest')\n",
    "axs[1].set_title(\"Actual Outputs for New Patterns\")\n",
    "plt.show()\n",
    "\n",
    "print(\"Desired Outputs for New Patterns:\", new_desired_output)\n",
    "print(\"Actual Outputs for New Patterns:\", new_output_activation.ravel())\n"
   ]
  }
 ],
 "metadata": {
  "kernelspec": {
   "display_name": "venv",
   "language": "python",
   "name": "python3"
  },
  "language_info": {
   "codemirror_mode": {
    "name": "ipython",
    "version": 3
   },
   "file_extension": ".py",
   "mimetype": "text/x-python",
   "name": "python",
   "nbconvert_exporter": "python",
   "pygments_lexer": "ipython3",
   "version": "3.11.5"
  }
 },
 "nbformat": 4,
 "nbformat_minor": 2
}
